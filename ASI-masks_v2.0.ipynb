{
 "cells": [
  {
   "cell_type": "markdown",
   "metadata": {},
   "source": [
    "# Masks v2.0"
   ]
  },
  {
   "cell_type": "markdown",
   "metadata": {},
   "source": [
    "## Packages"
   ]
  },
  {
   "cell_type": "code",
   "execution_count": 61,
   "metadata": {},
   "outputs": [],
   "source": [
    "import numpy as np \n",
    "import matplotlib.pyplot as plt \n",
    "import phidl.geometry as pg\n",
    "from phidl import quickplot as qp, set_quickplot_options\n",
    "from phidl import Device\n",
    "from itertools import product \n",
    "from scipy.optimize import minimize, newton \n",
    "from shapely.geometry import Polygon\n",
    "import flatspin"
   ]
  },
  {
   "cell_type": "markdown",
   "metadata": {},
   "source": [
    "## Layers"
   ]
  },
  {
   "cell_type": "code",
   "execution_count": 62,
   "metadata": {},
   "outputs": [],
   "source": [
    "l_layers=2\n",
    "l_grid = 3\n",
    "l_design = 4\n",
    "l_2 = 5\n",
    "l_wafer=1"
   ]
  },
  {
   "cell_type": "markdown",
   "metadata": {},
   "source": [
    "## Functions"
   ]
  },
  {
   "cell_type": "markdown",
   "metadata": {},
   "source": [
    "### ASI model from flatspin\n",
    "\n",
    "Returns the position and angle of the element of an ASI in Pinwheel model"
   ]
  },
  {
   "cell_type": "code",
   "execution_count": 63,
   "metadata": {},
   "outputs": [],
   "source": [
    "class CSPinwheel(flatspin.model.SpinIce):\n",
    "    def __init__(self, cs = 1,**kwargs):\n",
    "        self.cs = cs\n",
    "\n",
    "        super().__init__(**kwargs)\n",
    "\n",
    "    def _init_geometry(self):\n",
    "        size = self.size\n",
    "        lattice_spacing = self.lattice_spacing\n",
    "\n",
    "        pos = flatspin.model.PinwheelSpinIceDiamond(size = size).pos\n",
    "        angle = flatspin.model.PinwheelSpinIceDiamond(size = size).angle\n",
    "\n",
    "        pos[:, 0] = pos[:, 0]*self.cs\n",
    "\n",
    "        return pos, angle\n",
    "\n",
    "    _vertex_size=(3, 3)\n",
    "\n",
    "    @property\n",
    "    def _default_cell_size(self):\n",
    "        return (self.lattice_spacing/2, self.lattice_spacing/2)"
   ]
  },
  {
   "cell_type": "markdown",
   "metadata": {},
   "source": [
    "### Element\n",
    "Creates the stadium shape design as element."
   ]
  },
  {
   "cell_type": "code",
   "execution_count": 64,
   "metadata": {},
   "outputs": [],
   "source": [
    "def element(len, wid, lay=l_design): \n",
    "    p = wid\n",
    "    element_parts = pg.rectangle(size=(len, wid-p), layer = lay).movey(0, p/2)\n",
    "    element_parts << pg.rectangle(size=(len-p, wid), layer = lay).movex(0, p/2)\n",
    "    element_parts << pg.circle(radius = p/2, layer = lay).movex(0, p/2).movey(0, p/2)\n",
    "    element_parts << pg.circle(radius = p/2, layer = lay).movex(0, p/2).movey(p/2, wid)\n",
    "    element_parts << pg.circle(radius = p/2, layer = lay).movex(p/2, len).movey(0, p/2)\n",
    "    element_parts << pg.circle(radius = p/2, layer = lay).movex(p/2, len).movey(p/2, wid)\n",
    "\n",
    "    element = pg.union(element_parts, layer = lay)\n",
    "\n",
    "    element.name = f'element_size-{len}-{wid}_p-{p}'\n",
    "\n",
    "    if len<wid: \n",
    "        return Device()\n",
    "    return element"
   ]
  },
  {
   "cell_type": "markdown",
   "metadata": {},
   "source": [
    "### Insert and position element\n",
    "Insert the element in the positions and angles, also check the separation and adjust the ASI"
   ]
  },
  {
   "cell_type": "code",
   "execution_count": 65,
   "metadata": {},
   "outputs": [],
   "source": [
    "def device_from_lists(coords, angles, element = None, scale = 1, radians = 1):\n",
    "    # Adds elements at specified coordinates and angles\n",
    "    # If no element is specified, adds rectangle of 220 by 80 \n",
    "    assert len(coords) == len(angles), \"Number of coordinates and angles must match\"\n",
    "    coords *= scale\n",
    "    if radians:\n",
    "        #convert to deg\n",
    "        angles = np.degrees(angles)\n",
    "        \n",
    "    if not element:\n",
    "        element = pg.rectangle(size = (220, 80))\n",
    "    element.move(-element.center) # Center element on (0, 0)\n",
    "    \n",
    "    D = Device()\n",
    "    for coord, angle in zip(coords, angles):\n",
    "        D << pg.copy(element).rotate(angle).move(coord)\n",
    "\n",
    "    return D\n",
    "\n",
    "\n",
    "def stretched_array(sizex = 1, sizey = 1, pitchx = 1, pitchy = 1):\n",
    "    \n",
    "    offsetx = pitchx / 2\n",
    "    offsety = pitchy / 2\n",
    "    \n",
    "    xh, xv = np.arange(offsetx, sizex*pitchx, pitchx), np.arange(0, (1+sizex)*pitchx, pitchx)\n",
    "    yh, yv = np.arange(0, (1+sizey)*pitchy, pitchy), np.arange(offsety, sizey*pitchy, pitchy)\n",
    "\n",
    "    harray = np.array(np.meshgrid(xh, yh))\n",
    "    varray = np.array(np.meshgrid(xv, yv))\n",
    "    \n",
    "    harray = np.vstack([harray[0].flatten(), harray[1].flatten()]).transpose()\n",
    "    varray = np.vstack([varray[0].flatten(), varray[1].flatten()]).transpose()\n",
    "\n",
    "    return harray, varray\n",
    "\n",
    "def array_angle(array, angle):\n",
    "    angles = np.ones((len(array), 1))\n",
    "    angles *= np.deg2rad(angle)\n",
    "    \n",
    "    return angles\n",
    "\n",
    "def return_spacing(pitch, angle,  element=element(220, 80)):\n",
    "    hpos, vpos = stretched_array(1, 1, 1, 1)\n",
    "    h_array_angles = array_angle(hpos, angle)\n",
    "    v_array_angles = array_angle(vpos, angle+90)\n",
    "    coords = np.concatenate([hpos, vpos])\n",
    "    angles = np.concatenate([h_array_angles, v_array_angles])\n",
    "    \n",
    "    D = device_from_lists(coords, angles, element=element, scale=pitch)\n",
    "#     plot_device(D, plot_centers=True)\n",
    "    p0, p1, p2 = [Polygon(p) for p in D.get_polygons()[0:3]]\n",
    "#     print(\"dist\", p0.distance(p1), p1.distance(p2))\n",
    "    return p1.distance(p2)\n",
    "\n",
    "def calc_spacing(spacing, angle, element=element(220, 80), tolerance=0.001):\n",
    "    s = spacing\n",
    "    \n",
    "    scale0 = element.xsize*1.0+element.ysize*0.5\n",
    "    def scale_func(scale):\n",
    "        return np.abs(s-return_spacing(scale, angle, element=element))\n",
    "    scale = newton(scale_func, scale0, rtol=tolerance)\n",
    "    \n",
    "    return scale\n",
    "\n",
    "def calc_matrix_size(lenght, angle, dimen=12e3):\n",
    "    sin = np.sin(np.deg2rad(angle))\n",
    "    y=lenght*sin\n",
    "    # round a number to the next entire\n",
    "    x = int(np.ceil(dimen/y))\n",
    "    if x<20:\n",
    "        x=20\n",
    "    elif x>100:\n",
    "        x=100\n",
    "\n",
    "    return x\n",
    "\n",
    "def crea_sample(leng, widt, separation, mat_size = (50,50), text_layer=l_layers, des_layer=l_design,angle=45):\n",
    "    mat_prop=CSPinwheel(size=mat_size, cs=1)\n",
    "    pos_=mat_prop.pos\n",
    "    ang_=mat_prop.angle\n",
    "\n",
    "    new_sample=device_from_lists(pos_, ang_, element(leng,widt, des_layer), scale=calc_spacing(separation,angle,element=element(leng,widt)))\n",
    "    label=pg.text(f'({leng},{widt},{separation})mat={mat_size}',size=5e2,font=\"Arial\",layer=text_layer,justify='center')\n",
    "    label.movex(new_sample.xsize/2).movey(new_sample.ysize+500)\n",
    "    new_sample << label\n",
    "\n",
    "    return new_sample\n",
    "\n",
    "def multi_size_sep(sizes, separations, angle, layer, Title):\n",
    "    MultiDesign = []\n",
    "    for s in sizes:\n",
    "        sLe=s[0]\n",
    "        sWi=s[1]\n",
    "        for i in separations:\n",
    "            x=calc_matrix_size(sLe, angle)\n",
    "            sample=crea_sample(sLe, sWi, i, (x,x), des_layer=layer, angle=angle)\n",
    "            MultiDesign.append(sample)\n",
    "\n",
    "    gridded=pg.grid(MultiDesign,spacing=(5e3,5e3),shape=(len(separations),len(sizes)))\n",
    "    title=pg.text(Title, size=20e3, justify=\"center\", layer=l_layers,font=\"Arial\")\n",
    "    title.movey(gridded.ymax+20e3).movex(gridded.xsize/2)\n",
    "    gridded<<title\n",
    "    gridded.center = (0,0)\n",
    "\n",
    "    return gridded"
   ]
  },
  {
   "cell_type": "markdown",
   "metadata": {},
   "source": [
    "### Create sample\n",
    "Creates a sample with the parameters and label."
   ]
  },
  {
   "cell_type": "markdown",
   "metadata": {},
   "source": [
    "## Designs"
   ]
  },
  {
   "cell_type": "code",
   "execution_count": 66,
   "metadata": {},
   "outputs": [
    {
     "data": {
      "image/png": "[encoded data removed]",
      "text/plain": [
       "<Figure size 640x480 with 1 Axes>"
      ]
     },
     "metadata": {},
     "output_type": "display_data"
    },
    {
     "data": {
      "text/plain": [
       "'C:\\\\masks\\\\v2.0.gds'"
      ]
     },
     "execution_count": 66,
     "metadata": {},
     "output_type": "execute_result"
    }
   ],
   "source": [
    "#magnet=element(220,80)\n",
    "#separation=30\n",
    "assemble=Device()\n",
    "Final=Device()\n",
    "\n",
    "angle=45\n",
    "sizes=[(880,320), (550,200), (440,160), (330,120), (220,80), (165,60), (110,40)]\n",
    "separations=[15,20,25,30,35]\n",
    "\n",
    "wafer=pg.ring(radius=20e6,width=1e6,layer=l_wafer)\n",
    "wafer.center = (0,0)\n",
    "\n",
    "design_01=multi_size_sep(sizes, separations, angle, layer=10, Title=\"Dose 01\")\n",
    "design_02=multi_size_sep(sizes, separations, angle, layer=20, Title=\"Dose 02\")\n",
    "design_03=multi_size_sep(sizes, separations, angle, layer=30, Title=\"Dose 03\")\n",
    "design_04=multi_size_sep(sizes, separations, angle, layer=40, Title=\"Dose 04\")\n",
    "assemble << design_01\n",
    "assemble << design_02\n",
    "assemble << design_03\n",
    "assemble << design_04\n",
    "assemble.distribute(direction='x', spacing=10e6, separation=True)\n",
    "assemble.center = (0,0)\n",
    "assemble.movey(5e6)\n",
    "\n",
    "assemble2=pg.copy(assemble).movey(-10e6)\n",
    "\n",
    "Final<<assemble\n",
    "Final<<assemble2\n",
    "\n",
    "#sample=crea_sample(220, 80, 30, (50,50), des_layer=40)\n",
    "#sample2=crea_sample(2200, 800, 15, (10,10), des_layer=50)\n",
    "\n",
    "qp([Final,wafer])\n",
    "\n",
    "Final.write_gds(r'C:\\masks\\v2.0.gds', unit=1e-9, precision=1e-11)"
   ]
  }
 ],
 "metadata": {
  "kernelspec": {
   "display_name": "Python 3",
   "language": "python",
   "name": "python3"
  },
  "language_info": {
   "codemirror_mode": {
    "name": "ipython",
    "version": 3
   },
   "file_extension": ".py",
   "mimetype": "text/x-python",
   "name": "python",
   "nbconvert_exporter": "python",
   "pygments_lexer": "ipython3",
   "version": "3.11.2"
  }
 },
 "nbformat": 4,
 "nbformat_minor": 2
}
